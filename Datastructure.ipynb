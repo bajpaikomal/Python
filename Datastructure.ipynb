{
  "nbformat": 4,
  "nbformat_minor": 0,
  "metadata": {
    "colab": {
      "provenance": [],
      "toc_visible": true
    },
    "kernelspec": {
      "name": "python3",
      "display_name": "Python 3"
    },
    "language_info": {
      "name": "python"
    }
  },
  "cells": [
    {
      "cell_type": "markdown",
      "source": [
        "## **DATA STRUCTURE AND IT'S TYPES**\n",
        "\n",
        "1. What are data structures, and why are they important ?\n",
        "\n",
        "Ans. Data structures are just ways of organizing and storing data in a computer so that we can use it efficiently.\n",
        "\n",
        "Why are they important?\n",
        "\n",
        "Because the way you store data changes how fast and easy it is to work with it.\n",
        "\n",
        "The right data structure makes programs faster, smarter, and more memory-friendly.\n",
        "\n",
        "Without them, computers would waste a lot of time searching, sorting, or managing data.\n",
        "\n",
        "2. Explain the difference between mutable and immutable data types with examples ?\n",
        "\n",
        "Ans. 1. Mutable = Changeable\n",
        "\n",
        "If something is mutable, it means you can change it after it’s created.\n",
        "\n",
        "🔹 Example: A list in Python.\n",
        "\n",
        "my_list = [1, 2, 3]\n",
        "\n",
        "my_list[0] = 99   # changed first element\n",
        "\n",
        "print(my_list)   # [99, 2, 3]\n",
        "\n",
        "\n",
        "The list got changed.\n",
        "\n",
        "2. Immutable = Unchangeable\n",
        "\n",
        "If something is immutable, it means once it’s created, it cannot be changed.\n",
        "\n",
        "🔹 Example: A string in Python.\n",
        "\n",
        "my_string = \"hello\"\n",
        "\n",
        "my_string[0] = \"H\"   # this will cause error\n",
        "\n",
        "3. What are the main difference between lists and tuples in Python ?\n",
        "\n",
        "Ans. 🔹 Lists\n",
        "\n",
        "Changeable (mutable): You can add, remove, or modify items.\n",
        "\n",
        "Written with square brackets → [ ]\n",
        "\n",
        "Slower compared to tuples because they allow changes.\n",
        "\n",
        "Best when data can change (like a shopping cart).\n",
        "\n",
        "Example:\n",
        "\n",
        "my_list = [1, 2, 3]\n",
        "my_list.append(4)   # now it's [1, 2, 3, 4]\n",
        "\n",
        "🔹 Tuples\n",
        "\n",
        "Unchangeable (immutable): Once made, you can’t add or modify items.\n",
        "\n",
        "Written with round brackets → ( )\n",
        "\n",
        "Faster and uses less memory than lists.\n",
        "\n",
        "Best when data should stay fixed (like days of the week).\n",
        "\n",
        "Example:\n",
        "\n",
        "my_tuple = (1, 2, 3)\n",
        "\n",
        "my_tuple[0] = 99  # this gives an error\n",
        "\n",
        "4. Describe how dictionaries store data .\n",
        "\n",
        "Ans. A dictionary in Python stores data as key–value pairs.\n",
        "\n",
        "🔹 Example in Python:\n",
        "\n",
        "student = {\n",
        "    \"name\": \"Alice\",\n",
        "    \"age\": 20,\n",
        "    \"grade\": \"A\"\n",
        "}\n",
        "\n",
        "\n",
        "Here:\n",
        "\n",
        "\"name\", \"age\", \"grade\" → keys\n",
        "\n",
        "\"Alice\", 20, \"A\" → values\n",
        "\n",
        "So if you ask for student[\"name\"], Python gives you \"Alice\".\n",
        "\n",
        "🔹 How does it work inside?\n",
        "\n",
        "Python dictionaries work like a set of labeled boxes:\n",
        "\n",
        "Each key is like a label on the box.\n",
        "\n",
        "The value is what’s inside the box.\n",
        "\n",
        "You don’t need to search through everything—just look at the label to quickly find the right box.\n",
        "\n",
        "5. Why might you use a set instead of a list in python ?\n",
        "\n",
        "Ans. A set in Python is like a bag of unique items.\n",
        "\n",
        "🔹 Why use a set instead of a list?\n",
        "\n",
        "a) No duplicates allowed\n",
        "\n",
        "A set automatically removes duplicates.\n",
        "\n",
        "b) Faster searching\n",
        "\n",
        "If you want to check “Is 5 in this collection?”, sets are much quicker than lists.\n",
        "\n",
        "c) Math-like operations\n",
        "\n",
        "Sets can easily do union, intersection, and difference (like in math).\n",
        "\n",
        "In short:\n",
        "\n",
        "List = bag where you can put anything, even repeats.\n",
        "\n",
        "Set = basket that only keeps unique items and helps you find things quickly.\n",
        "\n",
        "6. What is a string in Python, and how is it different from a list ?\n",
        "\n",
        "Ans. 🔹 What is a string?\n",
        "\n",
        "A string is just text in Python, written inside quotes (\" \" or ' ').\n",
        "\n",
        "Example:\n",
        "\n",
        "name = \"Hello World\"\n",
        "\n",
        "\n",
        "Here, \"Hello World\" is a string.\n",
        "\n",
        "🔹 How is a string different from a list?\n",
        "\n",
        "1) Content\n",
        "\n",
        "A string stores characters (letters, numbers, symbols).\n",
        "\n",
        "A list can store anything (numbers, strings, other lists, etc.).\n",
        "\n",
        "\n",
        "\n",
        "2) Mutable vs Immutable\n",
        "\n",
        "String = immutable (you can’t change part of it directly).\n",
        "\n",
        "List = mutable (you can change items).\n",
        "\n",
        "\n",
        "3) Purpose\n",
        "\n",
        "Use strings when working with words, sentences, or text.\n",
        "\n",
        "Use lists when you need a collection of different items.\n",
        "\n",
        "7. How do Tuples ensure data integrity in Python ?\n",
        "\n",
        "Ans. 🔹 What is “data integrity”?\n",
        "\n",
        "It means keeping data safe and unchanged once it’s set.\n",
        "\n",
        "🔹 How do tuples help with that?\n",
        "\n",
        "A tuple in Python is immutable → you cannot change it after it’s created.\n",
        "\n",
        "That means no one can accidentally add, remove, or modify its elements.\n",
        "\n",
        "8. What is a hash table, and how does it relate to dictionaries in Python ?\n",
        "\n",
        "Ans. A hash table is a smart way of storing data so you can find it really fast.\n",
        "\n",
        "Imagine a big row of lockers.\n",
        "\n",
        "Each item gets a number (address) from a special formula called a hash function.\n",
        "\n",
        "You don’t search all lockers—you go straight to the right one using its number.\n",
        "\n",
        "This makes looking up things almost instant.\n",
        "\n",
        "🔹 How does this relate to dictionaries in Python?\n",
        "\n",
        "A dictionary in Python is built using a hash table.\n",
        "\n",
        "The keys (like \"name\", \"age\") are run through a hash function to figure out where to store their values.\n",
        "\n",
        "Example:\n",
        "\n",
        "student = {\"name\": \"Alice\", \"age\": 20}\n",
        "\n",
        "9. Can lists contain different data types in Python ?\n",
        "\n",
        "Ans. Yes , a list can hold different data types all together.\n",
        "\n",
        "\n",
        "Here the list has:\n",
        "\n",
        "* an integer (10)\n",
        "\n",
        "* a string (\"hello\")\n",
        "\n",
        "* a float (3.5)\n",
        "\n",
        "* a boolean (True)\n",
        "\n",
        "10. Explain why strings are immutable in Python ?\n",
        "\n",
        "Ans. 🔹 Why are strings immutable in Python?\n",
        "\n",
        "* Safety & reliability\n",
        "\n",
        "Strings are used a LOT in programs (like file names, passwords, messages).\n",
        "\n",
        "Making them immutable means they can’t be changed accidentally, keeping your data safe.\n",
        "\n",
        "* Efficiency\n",
        "\n",
        "Since strings don’t change, Python can reuse the same string in memory instead of making duplicates everywhere → this saves memory and speeds things up.\n",
        "\n",
        "* Hashing (important for dictionaries/sets)\n",
        "\n",
        "Immutable objects (like strings) can be used as keys in dictionaries.\n",
        "\n",
        "If strings could change, keys would become unreliable and data could get lost.\n",
        "\n",
        "11. What advantages do dictionaries offer over lists for certain tasks ?\n",
        "\n",
        "Ans. Advantages of dictionaries over lists\n",
        "\n",
        "1) Fast lookups\n",
        "\n",
        "* In a list: to find \"Alice\", you might check each item.\n",
        "\n",
        "* In a dictionary: just ask student[\"name\"] → instant answer.\n",
        "\n",
        "2) Clear meaning\n",
        "\n",
        "* In a list: [ \"Alice\", 20 ] → which is name? which is age?\n",
        "\n",
        "* In a dictionary: {\"name\": \"Alice\", \"age\": 20} → much clearer.\n",
        "\n",
        "3) Unique keys\n",
        "\n",
        "* Dictionaries don’t allow duplicate keys, so data is more organized.\n",
        "\n",
        "4) Flexible\n",
        "\n",
        "* You can store many different types of values, all labeled with meaningful keys.\n",
        "\n",
        "12. Describe a scenario where using a tuple would be preferable over a list .\n",
        "\n",
        "Ans. Example scenario: Days of the week\n",
        "\n",
        "* The days of the week never change, right? (Monday, Tuesday, … Sunday).\n",
        "\n",
        "If we use a tuple:\n",
        "\n",
        "days = (\"Mon\", \"Tue\", \"Wed\", \"Thu\", \"Fri\", \"Sat\", \"Sun\")\n",
        "\n",
        "\n",
        "No one can accidentally add \"Funday\" or remove \"Wed\". ✔\n",
        "\n",
        "If we used a list, someone might do:\n",
        "\n",
        "days = [\"Mon\", \"Tue\", \"Wed\", \"Thu\", \"Fri\", \"Sat\", \"Sun\"]\n",
        "\n",
        "days.append(\"Funday\")   # wrong, but allowed in a list\n",
        "\n",
        "13. How do sets handle duplicate values in Python ?\n",
        "\n",
        "Ans. In Python, a set automatically removes duplicates:\n",
        "\n",
        "* If you put the same value more than once, the set will only keep one copy.\n",
        "\n",
        "* Example:\n",
        "numbers = {1, 2, 2, 3, 3, 3}\n",
        "\n",
        "    print(numbers)   # {1, 2, 3}\n",
        "\n",
        "\n",
        "Even though we added 2 and 3 multiple times, the set only kept unique values.\n",
        "\n",
        "14. How does the  \"in\" keyword work differently for lists and dictionaries ?\n",
        "\n",
        "Ans. 🔹 In a list\n",
        "\n",
        "The \"in\" keyword checks if a value exists in the list.\n",
        "\n",
        "Example:\n",
        "\n",
        "fruits = [\"apple\", \"banana\", \"cherry\"]\n",
        "\n",
        "print(\"apple\" in fruits)   # True\n",
        "\n",
        "print(\"mango\" in fruits)   # False\n",
        "\n",
        "\n",
        "\n",
        "🔹 In a dictionary\n",
        "\n",
        "The \"in\" keyword checks if a key exists (not the value).\n",
        "\n",
        "Example:\n",
        "\n",
        "student = {\"name\": \"Alice\", \"age\": 20}\n",
        "\n",
        "print(\"name\" in student)   # True  (key exists)\n",
        "\n",
        "print(\"Alice\" in student)  # False (values are not checked)\n",
        "\n",
        "15. Can you modify the elements of a tuple ? Explain why or why not ?\n",
        "\n",
        "Ans. 🔹 Can you modify elements of a tuple?\n",
        "\n",
        " No, you cannot.\n",
        "Once a tuple is created, its elements are locked and cannot be changed, added, or removed.\n",
        "\n",
        "* Example:\n",
        "\n",
        "my_tuple = (10, 20, 30)\n",
        "\n",
        "my_tuple[0] = 99   #  Error: tuples don’t allow changes\n",
        "\n",
        "🔹 Why not?\n",
        "\n",
        "Because tuples are immutable → which means unchangeable.\n",
        "\n",
        "Python designed tuples this way so they can:\n",
        "\n",
        "* Protect data (ensure it stays the same).\n",
        "\n",
        "* Be used as keys in dictionaries or elements in sets (only immutable things are allowed there).\n",
        "\n",
        "* Be faster and more memory-efficient than lists.\n",
        "\n",
        "16. Whst is a nested dictionary , and give an example of its use case ?\n",
        "\n",
        "Ans. A nested dictionary is just a dictionary inside another dictionary.\n",
        "\n",
        "Think of it like a big folder that has smaller folders inside.\n",
        "Each small folder has its own labeled info.\n",
        "\n",
        "🔹 Example:\n",
        "\n",
        "students = {\n",
        "    \"student1\": {\"name\": \"Alice\", \"age\": 20, \"grade\": \"A\"},\n",
        "    \"student2\": {\"name\": \"Bob\", \"age\": 22, \"grade\": \"B\"}\n",
        "}\n",
        "\n",
        "\n",
        "Here:\n",
        "\n",
        "students is the main dictionary.\n",
        "\n",
        "Each student (student1, student2) is a dictionary inside with their details.\n",
        "\n",
        "🔹 Use case:\n",
        "\n",
        "Nested dictionaries are useful when you need to store complex data in an organized way.\n",
        "\n",
        "* Example:\n",
        "\n",
        "Storing info about many students (name, age, grade).\n",
        "\n",
        "Storing settings for users in an app.\n",
        "\n",
        "Storing data for products in an online store.\n",
        "\n",
        "17. Describe time complexity of accessing elements in a dictonary ?\n",
        "\n",
        "Ans. 🔹 Accessing elements in a dictionary\n",
        "\n",
        "When you look up a value in a dictionary using a key, Python uses a hash table under the hood.\n",
        "That means it doesn’t search one by one (like a list). Instead, it jumps straight to the right spot.\n",
        "\n",
        "🔹 Time complexity\n",
        "\n",
        "On average: O(1) → constant time (very fast, no matter how big the dictionary is).\n",
        "\n",
        "In the worst case (rare, like when many keys collide): O(n) → slower, but Python is optimized to avoid this most of the time.\n",
        "\n",
        "18. In what situations are lists preferred over dictionaries ?\n",
        "\n",
        "Ans. 🔹 When to use lists instead of dictionaries\n",
        "\n",
        "* Order matters\n",
        "\n",
        "Lists remember the order of items.\n",
        "\n",
        "Example: a playlist of songs where the order matters.\n",
        "\n",
        "playlist = [\"song1\", \"song2\", \"song3\"]\n",
        "\n",
        "\n",
        "* You just need a collection of items\n",
        "\n",
        "If you don’t need keys, a list is simpler.\n",
        "\n",
        "Example: a list of numbers, names, or scores.\n",
        "\n",
        "* You need duplicates\n",
        "\n",
        "Lists can store the same value multiple times, dictionaries cannot have duplicate keys.\n",
        "\n",
        "scores = [10, 20, 20, 30]\n",
        "\n",
        "\n",
        "* You frequently add/remove items in order\n",
        "\n",
        "Lists are easy to append, insert, or remove items by position.\n",
        "\n",
        "19. Why are dictionaries considered unordered , and how does that affect data retrieval ?\n",
        "\n",
        "Ans. 🔹 Why are dictionaries considered unordered?\n",
        "\n",
        "In Python, a dictionary doesn’t store items in a specific order (at least before Python 3.7).\n",
        "\n",
        "This means the order you add key-value pairs doesn’t matter internally.\n",
        "\n",
        "Example:\n",
        "\n",
        "student = {\"name\": \"Alice\", \"age\": 20, \"grade\": \"A\"}\n",
        "\n",
        "\n",
        "Even if you added \"age\" first and \"name\" second, Python doesn’t guarantee it will store them in that order (again, in older versions).\n",
        "\n",
        "🔹 How this affects data retrieval\n",
        "\n",
        "It doesn’t matter if items are unordered for looking up values by key.\n",
        "\n",
        "print(student[\"age\"])  # 20 → works instantly\n",
        "\n",
        "\n",
        "You can’t rely on order if you try to iterate over the dictionary expecting items in the order they were added (again, mostly applies to Python < 3.7).\n",
        "\n",
        "20. Explain the difference between a list and a dictionary in terms of data retrival .\n",
        "\n",
        "Ans. List\n",
        "\n",
        "* A list is an ordered collection of elements.\n",
        "\n",
        "* Retrieval is done using an index (position number).\n",
        "\n",
        "Example:\n",
        "\n",
        "my_list = [\"apple\", \"banana\", \"cherry\"]\n",
        "\n",
        "print(my_list[1])   # \"banana\"\n",
        "\n",
        "Dictionary\n",
        "\n",
        "A dictionary is an unordered collection of key–value pairs.\n",
        "\n",
        "Retrieval is done using a key (like a label).\n",
        "\n",
        "Example:\n",
        "\n",
        "my_dict = {\"a\": \"apple\", \"b\": \"banana\", \"c\": \"cherry\"}\n",
        "\n",
        "print(my_dict[\"b\"])   # \"banana\"\n",
        "\n",
        "\n"
      ],
      "metadata": {
        "id": "00dC1fe2g1I1"
      }
    },
    {
      "cell_type": "markdown",
      "source": [
        "# PRACTICAL QUESTIONS :\n",
        "\n",
        "1. Write a code to creat a string with your name and print it .\n",
        "\n"
      ],
      "metadata": {
        "id": "4t3N38LTgoPv"
      }
    },
    {
      "cell_type": "code",
      "source": [
        "str =\"my name is komal bajpai\"\n",
        "\n",
        "print(str)"
      ],
      "metadata": {
        "colab": {
          "base_uri": "https://localhost:8080/"
        },
        "id": "7xChIg7Gg_2z",
        "outputId": "371ae238-2f8e-4bac-a554-bc985f8cbec9"
      },
      "execution_count": null,
      "outputs": [
        {
          "output_type": "stream",
          "name": "stdout",
          "text": [
            "my name is komal bajpai\n"
          ]
        }
      ]
    },
    {
      "cell_type": "markdown",
      "source": [
        "2. Write a code to find the length of the string \"Hello World\" .\n",
        "\n"
      ],
      "metadata": {
        "id": "Kca8mea3hmaQ"
      }
    },
    {
      "cell_type": "code",
      "source": [
        "input_string= \"hello world\"\n",
        "\n",
        "print(len(input_string))  # Code to find the length of the string \"hello world\""
      ],
      "metadata": {
        "colab": {
          "base_uri": "https://localhost:8080/"
        },
        "id": "M7xPhk4JhsHZ",
        "outputId": "f9ecdd72-9bfc-406b-b783-a6b60f87fbe3"
      },
      "execution_count": null,
      "outputs": [
        {
          "output_type": "stream",
          "name": "stdout",
          "text": [
            "11\n"
          ]
        }
      ]
    },
    {
      "cell_type": "markdown",
      "source": [
        "3. Write a code to slice the first 3 characters from the string \"Python Programming\" .\n",
        "\n"
      ],
      "metadata": {
        "id": "Nw7JT_m7iRKH"
      }
    },
    {
      "cell_type": "code",
      "source": [
        "text= \"Python Programming\"\n",
        "\n",
        "print(text[:3])   # Slice the first 3 characters"
      ],
      "metadata": {
        "colab": {
          "base_uri": "https://localhost:8080/"
        },
        "id": "fJMZrvg6iUL_",
        "outputId": "b4d2b094-5ef4-46bf-cd79-79412cb755bd"
      },
      "execution_count": null,
      "outputs": [
        {
          "output_type": "stream",
          "name": "stdout",
          "text": [
            "Pyt\n"
          ]
        }
      ]
    },
    {
      "cell_type": "markdown",
      "source": [
        "4. Write a code to convert the string \"hello\" to uppercase.\n",
        "\n"
      ],
      "metadata": {
        "id": "uohTFR6GkF_J"
      }
    },
    {
      "cell_type": "code",
      "source": [
        "text= \"happy\"\n",
        "\n",
        "print(text.upper()) # convert to uppercase"
      ],
      "metadata": {
        "colab": {
          "base_uri": "https://localhost:8080/"
        },
        "id": "Y-N1mRtikZnj",
        "outputId": "eb5e6a97-cd21-45a2-eb57-7ee9853386b8"
      },
      "execution_count": null,
      "outputs": [
        {
          "output_type": "stream",
          "name": "stdout",
          "text": [
            "HAPPY\n"
          ]
        }
      ]
    },
    {
      "cell_type": "markdown",
      "source": [
        "5. Write a code to replace the word \"apple\" with \"orange\" in the string \"i like apple\"\n"
      ],
      "metadata": {
        "id": "vycbWTfCk0_D"
      }
    },
    {
      "cell_type": "code",
      "source": [
        "text=\"i like apple\"\n",
        "\n",
        "# Code to replace the word \"apple\" with \"orange\" in the string \"I like apple\".\n",
        "\n",
        "print(text.replace(\"apple\",\"orange\"))"
      ],
      "metadata": {
        "colab": {
          "base_uri": "https://localhost:8080/"
        },
        "id": "iZawOYC8mRAs",
        "outputId": "a6b88c19-c2ab-4409-9700-975bee3ac587"
      },
      "execution_count": null,
      "outputs": [
        {
          "output_type": "stream",
          "name": "stdout",
          "text": [
            "i like orange\n"
          ]
        }
      ]
    },
    {
      "cell_type": "markdown",
      "source": [
        "6. write a code to create a list with numbers 1 to 5 and print it.\n",
        "\n"
      ],
      "metadata": {
        "id": "Q2fcsA0mmpNS"
      }
    },
    {
      "cell_type": "code",
      "source": [
        "list=[]\n",
        "\n",
        "i=1\n",
        "\n",
        "while i<=5:\n",
        "\n",
        "    list.append(i)\n",
        "\n",
        "    i+=1\n",
        "\n",
        "    print(list)"
      ],
      "metadata": {
        "colab": {
          "base_uri": "https://localhost:8080/"
        },
        "id": "evdmLF-inD0S",
        "outputId": "b238c687-f73f-42df-d4cc-0aff71d17eb6"
      },
      "execution_count": null,
      "outputs": [
        {
          "output_type": "stream",
          "name": "stdout",
          "text": [
            "[1]\n",
            "[1, 2]\n",
            "[1, 2, 3]\n",
            "[1, 2, 3, 4]\n",
            "[1, 2, 3, 4, 5]\n"
          ]
        }
      ]
    },
    {
      "cell_type": "markdown",
      "source": [
        "7. Write a code to append the number 10 to the list[1, 2, 3, 4] .\n",
        "\n"
      ],
      "metadata": {
        "id": "SCUoUHOQoA7O"
      }
    },
    {
      "cell_type": "code",
      "source": [
        "list_1=[1,2,3,4]\n",
        "\n",
        "# code to append the number 10 to the list_1\n",
        "\n",
        "list_1.append(10)\n",
        "\n",
        "print(list_1)"
      ],
      "metadata": {
        "colab": {
          "base_uri": "https://localhost:8080/"
        },
        "id": "kSBcgTVxpLvS",
        "outputId": "7bd43d5c-0afc-47fe-a299-50fe5bf3716b"
      },
      "execution_count": null,
      "outputs": [
        {
          "output_type": "stream",
          "name": "stdout",
          "text": [
            "[1, 2, 3, 4, 10]\n"
          ]
        }
      ]
    },
    {
      "cell_type": "markdown",
      "source": [
        "8. Write a code to remove the numbers 3 from the list[1, 2, 3, 4, 5] .\n"
      ],
      "metadata": {
        "id": "2tygsX4jpoFA"
      }
    },
    {
      "cell_type": "code",
      "source": [
        "# Code to remove the number 3 from the list[1, 2, 3, 4, 5]\n",
        "\n",
        "numbers = [1, 2, 3, 4, 5]\n",
        "\n",
        "# Remove 3 from the list\n",
        "\n",
        "numbers.remove(3)\n",
        "\n",
        "print(numbers)"
      ],
      "metadata": {
        "colab": {
          "base_uri": "https://localhost:8080/"
        },
        "id": "ghadr9fZsApK",
        "outputId": "db1bfcdb-7029-460d-e6b6-ba0745a71823"
      },
      "execution_count": null,
      "outputs": [
        {
          "output_type": "stream",
          "name": "stdout",
          "text": [
            "[1, 2, 4, 5]\n"
          ]
        }
      ]
    },
    {
      "cell_type": "markdown",
      "source": [
        "9. Write a code to access the second element in the list['a', 'b', 'c', 'd'] .\n"
      ],
      "metadata": {
        "id": "NVwAZGFXqRKu"
      }
    },
    {
      "cell_type": "code",
      "source": [
        "# code to access the second element in the list ['a', 'b', 'c', 'd']\n",
        "\n",
        "letters = ['a', 'b', 'c', 'd']\n",
        "\n",
        "# Access the second element\n",
        "\n",
        "second_element = letters[1]\n",
        "\n",
        "print(second_element)\n"
      ],
      "metadata": {
        "colab": {
          "base_uri": "https://localhost:8080/"
        },
        "id": "39vidcFvsOMD",
        "outputId": "13b810cc-0f2e-42f3-af42-a3594ea55c20"
      },
      "execution_count": null,
      "outputs": [
        {
          "output_type": "stream",
          "name": "stdout",
          "text": [
            "b\n"
          ]
        }
      ]
    },
    {
      "cell_type": "markdown",
      "source": [
        "10. Write a code to reverse the list[10, 20, 30, 40, 50]."
      ],
      "metadata": {
        "id": "PD8SQohdseqS"
      }
    },
    {
      "cell_type": "code",
      "source": [
        "li_st=[10,20,30,40,50]\n",
        "\n",
        "# code to reverse the li_st\n",
        "\n",
        "li_st.reverse()\n",
        "\n",
        "print(li_st)"
      ],
      "metadata": {
        "colab": {
          "base_uri": "https://localhost:8080/"
        },
        "id": "418s6NFPqXhF",
        "outputId": "0300aa8c-c6d5-497c-926c-082a09a80f8d"
      },
      "execution_count": null,
      "outputs": [
        {
          "output_type": "stream",
          "name": "stdout",
          "text": [
            "[50, 40, 30, 20, 10]\n"
          ]
        }
      ]
    },
    {
      "cell_type": "markdown",
      "source": [
        "11. Write a code to create a tuple with the elements 100, 200, 300 and print it .\n"
      ],
      "metadata": {
        "id": "S9HjHWVDqtsE"
      }
    },
    {
      "cell_type": "code",
      "source": [
        "tuple=(100,200,300)\n",
        "\n",
        "print(tuple)"
      ],
      "metadata": {
        "colab": {
          "base_uri": "https://localhost:8080/"
        },
        "id": "F065BZj0q271",
        "outputId": "ce583139-2400-4a55-b199-5e75cec48408"
      },
      "execution_count": null,
      "outputs": [
        {
          "output_type": "stream",
          "name": "stdout",
          "text": [
            "(100, 200, 300)\n"
          ]
        }
      ]
    },
    {
      "cell_type": "markdown",
      "source": [
        "12. Write a code to access the second-to-last element of the tuple('red', 'green', 'blue', 'yellow') .\n",
        "\n"
      ],
      "metadata": {
        "id": "i87KB6SLsqwh"
      }
    },
    {
      "cell_type": "code",
      "source": [
        "tuple = ('red', 'green', 'blue', 'yellow')\n",
        "\n",
        "# Access the second-to-last element\n",
        "\n",
        "second_last = tuple[-2]\n",
        "\n",
        "print(second_last)"
      ],
      "metadata": {
        "colab": {
          "base_uri": "https://localhost:8080/"
        },
        "id": "zjt_e6fgunsg",
        "outputId": "756e5231-58a5-44eb-c2fa-3338fd41ff7e"
      },
      "execution_count": null,
      "outputs": [
        {
          "output_type": "stream",
          "name": "stdout",
          "text": [
            "blue\n"
          ]
        }
      ]
    },
    {
      "cell_type": "markdown",
      "source": [
        "13. Write a code to find the minimum number in the tuple(10, 20, 5, 15) .\n"
      ],
      "metadata": {
        "id": "pL1LADLLv1Bk"
      }
    },
    {
      "cell_type": "code",
      "source": [
        "num=(10,20,5,15)\n",
        "\n",
        "# Find minimum number\n",
        "\n",
        "minimum = min(num)\n",
        "\n",
        "print(minimum)\n"
      ],
      "metadata": {
        "colab": {
          "base_uri": "https://localhost:8080/"
        },
        "id": "ozMNoHaNv4jl",
        "outputId": "beb6c830-256d-45f4-969b-ee2731d46c63"
      },
      "execution_count": null,
      "outputs": [
        {
          "output_type": "stream",
          "name": "stdout",
          "text": [
            "5\n"
          ]
        }
      ]
    },
    {
      "cell_type": "markdown",
      "source": [
        "14. Write a code to find the index of the element \"cat\" in the tuple('dog', 'cat', 'rabbit') ."
      ],
      "metadata": {
        "id": "It-ffXWkwInJ"
      }
    },
    {
      "cell_type": "code",
      "source": [
        "animals=(\"dog\",\"cat\",\"rabbit\")\n",
        "\n",
        "# code to find index of an element\n",
        "\n",
        "index=animals.index(\"cat\")\n",
        "\n",
        "print(index)"
      ],
      "metadata": {
        "colab": {
          "base_uri": "https://localhost:8080/"
        },
        "id": "4sxr42WIwPz1",
        "outputId": "07832865-9be1-4615-a680-0495729eecf9"
      },
      "execution_count": null,
      "outputs": [
        {
          "output_type": "stream",
          "name": "stdout",
          "text": [
            "1\n"
          ]
        }
      ]
    },
    {
      "cell_type": "markdown",
      "source": [
        "15. Write a code to create a tuple containing three different fruits and check if \"kiwi\" is in it."
      ],
      "metadata": {
        "id": "z1CBjFwswncc"
      }
    },
    {
      "cell_type": "code",
      "source": [
        "fruit=(\"apple\",\"mango\",\"kiwi\",\"orange\")\n",
        "\n",
        "# Check if \"kiwi\" is in the tuple\n",
        "\n",
        "if \"kiwi\" in fruit:\n",
        "\n",
        "    print(\"kiwi is in the tuple\")\n",
        "\n",
        "else:\n",
        "\n",
        "    print(\"kiwi is not in the tuple\")"
      ],
      "metadata": {
        "colab": {
          "base_uri": "https://localhost:8080/"
        },
        "id": "mvUI8jbLws-F",
        "outputId": "43c4ee3d-5690-4aa4-ad1d-9a2e4fc23fbc"
      },
      "execution_count": null,
      "outputs": [
        {
          "output_type": "stream",
          "name": "stdout",
          "text": [
            "kiwi is in the tuple\n"
          ]
        }
      ]
    },
    {
      "cell_type": "markdown",
      "source": [
        "16. Write a code to create a set with the elements 'a', 'b', 'c' and print it.\n"
      ],
      "metadata": {
        "id": "y2OXRTcAxowr"
      }
    },
    {
      "cell_type": "code",
      "source": [
        "# Code to Create a set with the elements 'a', 'b', 'c' and print it\n",
        "\n",
        "set={\"a\",\"b\",\"c\"}\n",
        "\n",
        "print(set)"
      ],
      "metadata": {
        "colab": {
          "base_uri": "https://localhost:8080/"
        },
        "id": "0Z0sEg3axtnc",
        "outputId": "cbcd8abb-358d-465f-fddb-0b851f930c97"
      },
      "execution_count": null,
      "outputs": [
        {
          "output_type": "stream",
          "name": "stdout",
          "text": [
            "{'b', 'a', 'c'}\n"
          ]
        }
      ]
    },
    {
      "cell_type": "markdown",
      "source": [
        "17. Write a code to clear all elements from the set{1, 2, 3, 4, 5} ."
      ],
      "metadata": {
        "id": "-1wMqfZ7yZ2Z"
      }
    },
    {
      "cell_type": "code",
      "source": [
        "set={1,2,3,4,5}\n",
        "\n",
        "# code to clear all elements from the set{1, 2, 3, 4, 5} .\n",
        "\n",
        "print(set)"
      ],
      "metadata": {
        "colab": {
          "base_uri": "https://localhost:8080/"
        },
        "id": "2tvqUfofyg92",
        "outputId": "dc5427c9-5213-4804-f90d-cb417f0e3894"
      },
      "execution_count": null,
      "outputs": [
        {
          "output_type": "stream",
          "name": "stdout",
          "text": [
            "{1, 2, 3, 4, 5}\n"
          ]
        }
      ]
    },
    {
      "cell_type": "markdown",
      "source": [
        "18. Write a code to remove the element 4 from the set{1, 2, 3, 4} .\n"
      ],
      "metadata": {
        "id": "jlOFQhVDy6H0"
      }
    },
    {
      "cell_type": "code",
      "source": [
        "set={1,2,3,4}\n",
        "\n",
        "#code to remove the element 4 from the set{1, 2, 3, 4} .\n",
        "\n",
        "set.remove(4)\n",
        "\n",
        "print(set)"
      ],
      "metadata": {
        "colab": {
          "base_uri": "https://localhost:8080/"
        },
        "id": "c0KJhrcTy_Ta",
        "outputId": "08a1243d-84fe-4180-e22c-ae47a0e7ea4d"
      },
      "execution_count": null,
      "outputs": [
        {
          "output_type": "stream",
          "name": "stdout",
          "text": [
            "{1, 2, 3}\n"
          ]
        }
      ]
    },
    {
      "cell_type": "markdown",
      "source": [
        "19. Write a code to find the union of two sets{1, 2, 3} and {3, 4, 5} .\n"
      ],
      "metadata": {
        "id": "d03fCgCAzLfi"
      }
    },
    {
      "cell_type": "code",
      "source": [
        "set_1={1,2,3}\n",
        "set_2={3,4,5}\n",
        "\n",
        "#code to find the union of two sets{1, 2, 3} and {3, 4, 5} .\n",
        "\n",
        "union=set_1.union(set_2)\n",
        "\n",
        "print(union)"
      ],
      "metadata": {
        "colab": {
          "base_uri": "https://localhost:8080/"
        },
        "id": "NxOxZJMrzP-m",
        "outputId": "3c13e970-f705-4786-b592-ec8924ba8146"
      },
      "execution_count": null,
      "outputs": [
        {
          "output_type": "stream",
          "name": "stdout",
          "text": [
            "{1, 2, 3, 4, 5}\n"
          ]
        }
      ]
    },
    {
      "cell_type": "markdown",
      "source": [
        "20. Write a code to find the intersection of two sets{1, 2, 3} and {2, 3, 4} .\n"
      ],
      "metadata": {
        "id": "bu8ovE-X0M2y"
      }
    },
    {
      "cell_type": "code",
      "source": [
        "set1={1,2,3}\n",
        "set2={2,3,4}\n",
        "\n",
        "#code to find the intersection of two sets{1, 2, 3} and {2, 3, 4} .\n",
        "\n",
        "intersection=set1.intersection(set2)\n",
        "\n",
        "print(intersection)"
      ],
      "metadata": {
        "colab": {
          "base_uri": "https://localhost:8080/"
        },
        "id": "9kl_Yo0W0RJW",
        "outputId": "93fb3404-9cc9-447a-f7bb-9153051f862e"
      },
      "execution_count": null,
      "outputs": [
        {
          "output_type": "stream",
          "name": "stdout",
          "text": [
            "{2, 3}\n"
          ]
        }
      ]
    },
    {
      "cell_type": "markdown",
      "source": [
        "21. Write a code to creat a dictionary with the key \"name\", \"age\", and \"city\", and print it .\n"
      ],
      "metadata": {
        "id": "5imvgwdf0sPI"
      }
    },
    {
      "cell_type": "code",
      "source": [
        "#code to creat a dictionary with the key \"name\", \"age\", and \"city\", and print it\n",
        "\n",
        "details={\"name\":\"komal\",\"age\":23,\"city\":\"meerut\"}\n",
        "\n",
        "print(details)"
      ],
      "metadata": {
        "colab": {
          "base_uri": "https://localhost:8080/"
        },
        "id": "9QzoM3M40wv0",
        "outputId": "ec0b19b6-2e86-49e9-8dc8-d7f5a9714c84"
      },
      "execution_count": null,
      "outputs": [
        {
          "output_type": "stream",
          "name": "stdout",
          "text": [
            "{'name': 'komal', 'age': 23, 'city': 'meerut'}\n"
          ]
        }
      ]
    },
    {
      "cell_type": "markdown",
      "source": [
        "22. Write a code to add a new key-value pair \"country\":\"USA\" to the dictionary{'name':'john','age':25} .\n"
      ],
      "metadata": {
        "id": "p_uOM2ik1LqM"
      }
    },
    {
      "cell_type": "code",
      "source": [
        "dict={\"name\":\"jhon\",\"age\":25}\n",
        "\n",
        "# code to add a new key-value pair\n",
        "\n",
        "dict[\"country\"]=\"USA\"\n",
        "\n",
        "print(dict)"
      ],
      "metadata": {
        "colab": {
          "base_uri": "https://localhost:8080/"
        },
        "id": "Am0qJVMX1cNt",
        "outputId": "82ed6227-6200-4133-e00b-09b4ecf5cb39"
      },
      "execution_count": null,
      "outputs": [
        {
          "output_type": "stream",
          "name": "stdout",
          "text": [
            "{'name': 'jhon', 'age': 25, 'country': 'USA'}\n"
          ]
        }
      ]
    },
    {
      "cell_type": "markdown",
      "source": [
        "23. Write a code to access the value associated with the key \"name\" in the dictionary {'name':'Alice', 'age': 30} .\n"
      ],
      "metadata": {
        "id": "3y2kTT0h2Jo2"
      }
    },
    {
      "cell_type": "code",
      "source": [
        "dict={\"name\":\"Alice\",\"age\":30}\n",
        "\n",
        "# code to access the value associated with the key \"name\"\n",
        "\n",
        "value=dict[\"name\"]\n",
        "\n",
        "print(value)"
      ],
      "metadata": {
        "colab": {
          "base_uri": "https://localhost:8080/"
        },
        "id": "ttbg3xyF2NTw",
        "outputId": "0200971c-b2a7-4631-a839-84cb75a9c12f"
      },
      "execution_count": null,
      "outputs": [
        {
          "output_type": "stream",
          "name": "stdout",
          "text": [
            "Alice\n"
          ]
        }
      ]
    },
    {
      "cell_type": "markdown",
      "source": [
        "24. Write a code to remove the key \"age\" from the dictionary {'name': 'Bob', 'age':22, 'city':'New York'} .\n"
      ],
      "metadata": {
        "id": "Pf0QzBA63AxX"
      }
    },
    {
      "cell_type": "code",
      "source": [
        "dict={\"name\":\"bob\",\"age\":22,\"city\":\"New york\"}\n",
        "\n",
        "#code to remove the key \"age\" from the dictionary\n",
        "\n",
        "remove=dict.pop(\"age\")\n",
        "\n",
        "print(dict)"
      ],
      "metadata": {
        "colab": {
          "base_uri": "https://localhost:8080/"
        },
        "id": "3DDZJGlO3F4A",
        "outputId": "ebfbac2f-9c6f-49ba-cb3e-409d141b900c"
      },
      "execution_count": null,
      "outputs": [
        {
          "output_type": "stream",
          "name": "stdout",
          "text": [
            "{'name': 'bob', 'city': 'New york'}\n"
          ]
        }
      ]
    },
    {
      "cell_type": "markdown",
      "source": [
        "25. Write a code to check if the key \"city\" exists in the dictionary {'name': 'Alice', 'city': 'paris'} .\n"
      ],
      "metadata": {
        "id": "IP2Af3Pn38Fr"
      }
    },
    {
      "cell_type": "code",
      "source": [
        "details = {'name': 'Alice', 'city': 'paris'}\n",
        "\n",
        "# Check if \"city\" key exists\n",
        "\n",
        "if \"city\" in details:\n",
        "  print(\"key 'city' exists in the dictionary.\")\n",
        "\n",
        "else:\n",
        "\n",
        "    print(\"key 'city' does not exists in the dictionary.\")"
      ],
      "metadata": {
        "colab": {
          "base_uri": "https://localhost:8080/"
        },
        "id": "PztWiBsw4AJe",
        "outputId": "cd01408e-80a5-482b-efb6-56a9f27b5adf"
      },
      "execution_count": null,
      "outputs": [
        {
          "output_type": "stream",
          "name": "stdout",
          "text": [
            "key 'city' exists in the dictionary.\n"
          ]
        }
      ]
    },
    {
      "cell_type": "markdown",
      "source": [
        "26. Write a code to create a list, a tuple, and dictionary, and print them all ."
      ],
      "metadata": {
        "id": "FPUl_Hqs4TLg"
      }
    },
    {
      "cell_type": "code",
      "source": [
        "# Create a List\n",
        "\n",
        "list_1 = [1, 2, 3, 4, 5]\n",
        "\n",
        "# Create a tuple\n",
        "\n",
        "tuple_1 = (10, 20, 30, 40, 50)\n",
        "\n",
        "# Create a dictionary\n",
        "\n",
        "\n",
        "dict_1 = {\"name\": \"Alice\", \"age\": 25, \"city\": \"paris\"}\n",
        "\n",
        "print(\"List:\", list_1)\n",
        "print(\"Tuple:\", tuple_1)\n",
        "print(\"Dictionary:\", dict_1)"
      ],
      "metadata": {
        "colab": {
          "base_uri": "https://localhost:8080/"
        },
        "id": "JvBm-qm_4XQo",
        "outputId": "ad6b65a0-1d95-40ff-fbfd-c1ded5039d6d"
      },
      "execution_count": null,
      "outputs": [
        {
          "output_type": "stream",
          "name": "stdout",
          "text": [
            "List: [1, 2, 3, 4, 5]\n",
            "Tuple: (10, 20, 30, 40, 50)\n",
            "Dictionary: {'name': 'Alice', 'age': 25, 'city': 'paris'}\n"
          ]
        }
      ]
    },
    {
      "cell_type": "markdown",
      "source": [
        "27. Write a code to create a list of 5 random numbers between 1 to 100, sort it in ascending order, and print the result.\n"
      ],
      "metadata": {
        "id": "ERL-Vzzx4sw8"
      }
    },
    {
      "cell_type": "code",
      "source": [
        "import random\n",
        "\n",
        "# create a list of 5 random numbers between 1 and 100\n",
        "numbers = [random.randint(1, 100) for _ in range(5)]\n",
        "\n",
        "# sort the list in ascending order\n",
        "numbers.sort()\n",
        "\n",
        "# print the result\n",
        "print(numbers)"
      ],
      "metadata": {
        "colab": {
          "base_uri": "https://localhost:8080/"
        },
        "id": "CH4UBisa4xP9",
        "outputId": "1af3f56f-9581-4a0c-e8a0-267ed4c0da49"
      },
      "execution_count": null,
      "outputs": [
        {
          "output_type": "stream",
          "name": "stdout",
          "text": [
            "[13, 24, 48, 67, 96]\n"
          ]
        }
      ]
    },
    {
      "cell_type": "markdown",
      "source": [
        "28. Write a code to create a list with strings and print the element at the third index .\n"
      ],
      "metadata": {
        "id": "cQn_l1aj5QjE"
      }
    },
    {
      "cell_type": "code",
      "source": [
        "str_2=[\"apple\",\"brinjal\",2+3j,2.34]\n",
        "\n",
        "#code to print the element at the third index\n",
        "\n",
        "print(str_2[2])"
      ],
      "metadata": {
        "colab": {
          "base_uri": "https://localhost:8080/"
        },
        "id": "ykTSzBlW5Ube",
        "outputId": "ef73ee3b-7f84-487f-90d4-98afa0dc5feb"
      },
      "execution_count": null,
      "outputs": [
        {
          "output_type": "stream",
          "name": "stdout",
          "text": [
            "(2+3j)\n"
          ]
        }
      ]
    },
    {
      "cell_type": "markdown",
      "source": [
        "29. Write a code to combine two dictionary into one and print the result .\n"
      ],
      "metadata": {
        "id": "lbpN7f495_Fm"
      }
    },
    {
      "cell_type": "code",
      "source": [
        "# two dictionaries\n",
        "dict1 = {\"a\": 1, \"b\": 2}\n",
        "dict2 = {\"c\": 3, \"d\": 4}\n",
        "\n",
        "# combine the two dictionaries\n",
        "combined = {**dict1, **dict2}\n",
        "\n",
        "# print the result\n",
        "print(combined)"
      ],
      "metadata": {
        "colab": {
          "base_uri": "https://localhost:8080/"
        },
        "id": "WDZTmDBG6BbT",
        "outputId": "1a29ed0e-40cb-4079-b0f2-b62c1c3654f9"
      },
      "execution_count": null,
      "outputs": [
        {
          "output_type": "stream",
          "name": "stdout",
          "text": [
            "{'a': 1, 'b': 2, 'c': 3, 'd': 4}\n"
          ]
        }
      ]
    },
    {
      "cell_type": "markdown",
      "source": [
        "30. Write a code to convert a list of strings into a set.\n"
      ],
      "metadata": {
        "id": "J3p4PfCz6yLF"
      }
    },
    {
      "cell_type": "code",
      "source": [
        "# list of strings\n",
        "my_list=[\"a\",\"b\",\"c\",\"d\"]\n",
        "\n",
        "# convert list to set\n",
        "my_set=set(my_list)\n",
        "\n",
        "# print the result\n",
        "print(my_set)"
      ],
      "metadata": {
        "id": "g6-KMWfS80ot",
        "outputId": "93336bba-913e-444f-c934-6efe5107d368",
        "colab": {
          "base_uri": "https://localhost:8080/"
        }
      },
      "execution_count": 1,
      "outputs": [
        {
          "output_type": "stream",
          "name": "stdout",
          "text": [
            "{'a', 'c', 'b', 'd'}\n"
          ]
        }
      ]
    }
  ]
}